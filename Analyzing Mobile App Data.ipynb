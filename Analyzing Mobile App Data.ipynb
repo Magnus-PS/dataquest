{
 "cells": [
  {
   "cell_type": "markdown",
   "id": "abdab29a",
   "metadata": {},
   "source": [
    "## Analyzing Mobile App Data Data Analysis\n",
    "\n",
    "The purpose of this project is to utilize basic Python functionality, covered up to this point, to perform a practical data analysis. We'll imagine we're working as data analysts for a company that builds Android and iOS mobile apps made available on Google Play and in the App Store.\n",
    "\n",
    "We build apps that are free to download and install, and our main source of revenue comes from in-app ads. This means that the # of app users, especially those that engage with our ads, has a direct impact on our revenue. Our goal is to analyze data and guide our team of developers to develop the most attractive, engaging app."
   ]
  },
  {
   "cell_type": "code",
   "execution_count": 1,
   "id": "50854873",
   "metadata": {},
   "outputs": [],
   "source": [
    "from csv import reader\n",
    "\n",
    "# Define function to open CSV file and return header and data\n",
    "def header_and_data(csv):\n",
    "    opened_file = open(csv, encoding='utf8') # open CSV\n",
    "    read_file = reader(opened_file) # return list of strings\n",
    "    list_of_lists = list(read_file) # generate list of lists\n",
    "    \n",
    "    return list_of_lists[0], list_of_lists[1:] #return header and data"
   ]
  },
  {
   "cell_type": "code",
   "execution_count": 2,
   "id": "8aa36013",
   "metadata": {},
   "outputs": [],
   "source": [
    "# Define function to explore data\n",
    "def explore_data(dataset, start, end, rows_and_columns=False):\n",
    "    dataset_slice = dataset[start:end]    \n",
    "    for row in dataset_slice:\n",
    "        print(row)\n",
    "        print('\\n') # adds a new (empty) line after each row\n",
    "\n",
    "    if rows_and_columns:\n",
    "        print('Number of rows:', len(dataset))\n",
    "        print('Number of columns:', len(dataset[0]))"
   ]
  },
  {
   "cell_type": "code",
   "execution_count": 3,
   "id": "bb81c309",
   "metadata": {},
   "outputs": [
    {
     "name": "stdout",
     "output_type": "stream",
     "text": [
      "['2', '281796108', 'Evernote - stay organized', '158578688', 'USD', '0', '161065', '26', '4', '3.5', '8.2.2', '4+', 'Productivity', '37', '5', '23', '1']\n",
      "\n",
      "\n",
      "['3', '281940292', 'WeatherBug - Local Weather, Radar, Maps, Alerts', '100524032', 'USD', '0', '188583', '2822', '3.5', '4.5', '5.0.0', '4+', 'Weather', '37', '5', '3', '1']\n",
      "\n",
      "\n",
      "['4', '282614216', 'eBay: Best App to Buy, Sell, Save! Online Shopping', '128512000', 'USD', '0', '262241', '649', '4', '4.5', '5.10.0', '12+', 'Shopping', '37', '5', '9', '1']\n",
      "\n",
      "\n",
      "Number of rows: 7197\n",
      "Number of columns: 17\n",
      "['', 'id', 'track_name', 'size_bytes', 'currency', 'price', 'rating_count_tot', 'rating_count_ver', 'user_rating', 'user_rating_ver', 'ver', 'cont_rating', 'prime_genre', 'sup_devices.num', 'ipadSc_urls.num', 'lang.num', 'vpp_lic']\n"
     ]
    }
   ],
   "source": [
    "# read in and explore Apple data\n",
    "apple_header, apple_data = header_and_data('AppleStore.csv')\n",
    "explore_data(apple_data,1,4,True)\n",
    "\n",
    "# explore header\n",
    "print(apple_header)"
   ]
  },
  {
   "cell_type": "markdown",
   "id": "2088babb",
   "metadata": {},
   "source": [
    "The [Apple store data](https://www.kaggle.com/datasets/ramamet4/app-store-apple-data-set-10k-apps) has 7197 apps (rows) and 17 app descriptors (columns) including but not limited to the app's name, price, number of ratings, average user ratings, and genre."
   ]
  },
  {
   "cell_type": "code",
   "execution_count": 4,
   "id": "1d7dc807",
   "metadata": {},
   "outputs": [
    {
     "name": "stdout",
     "output_type": "stream",
     "text": [
      "['Coloring book moana', 'ART_AND_DESIGN', '3.9', '967', '14M', '500,000+', 'Free', '0', 'Everyone', 'Art & Design;Pretend Play', 'January 15, 2018', '2.0.0', '4.0.3 and up']\n",
      "\n",
      "\n",
      "['U Launcher Lite – FREE Live Cool Themes, Hide Apps', 'ART_AND_DESIGN', '4.7', '87510', '8.7M', '5,000,000+', 'Free', '0', 'Everyone', 'Art & Design', 'August 1, 2018', '1.2.4', '4.0.3 and up']\n",
      "\n",
      "\n",
      "['Sketch - Draw & Paint', 'ART_AND_DESIGN', '4.5', '215644', '25M', '50,000,000+', 'Free', '0', 'Teen', 'Art & Design', 'June 8, 2018', 'Varies with device', '4.2 and up']\n",
      "\n",
      "\n",
      "Number of rows: 10841\n",
      "Number of columns: 13\n",
      "['App', 'Category', 'Rating', 'Reviews', 'Size', 'Installs', 'Type', 'Price', 'Content Rating', 'Genres', 'Last Updated', 'Current Ver', 'Android Ver']\n"
     ]
    }
   ],
   "source": [
    "#read in and explore Android data\n",
    "android_header, android_data = header_and_data('googleplaystore.csv')\n",
    "explore_data(android_data,1,4,True)\n",
    "\n",
    "#explore header\n",
    "print(android_header)"
   ]
  },
  {
   "cell_type": "markdown",
   "id": "81faf085",
   "metadata": {},
   "source": [
    "The [Google playstore data](https://www.kaggle.com/datasets/lava18/google-play-store-apps) has 10841 apps (rows) and 13 app descriptors (columns) including but not limited to the app's name, price, number of ratings, average user ratings, and genre.\n",
    "\n",
    "The two files, while having different column names, hold nearly identical data. For our purposes the name, rating, number of uses, and price will be of particular interest.\n",
    "\n",
    "With a light familiarity with our data, the next step is ensuring we analyze the correct data. We're concerned with free apps for an English-speaking audience. As such, we'll filter out apps that do not meet these criteria.\n",
    "\n",
    "To start we filter for unique entries and remove erroneous entries:"
   ]
  },
  {
   "cell_type": "code",
   "execution_count": 5,
   "id": "19ccb375",
   "metadata": {},
   "outputs": [
    {
     "name": "stdout",
     "output_type": "stream",
     "text": [
      "The Apple data has 2 duplicates.\n"
     ]
    }
   ],
   "source": [
    "# remove duplicates from Apple data\n",
    "apple_unique_app_names = []\n",
    "apple_duplicate_app_names = []\n",
    "apple_clean = []\n",
    "\n",
    "for app in apple_data: \n",
    "    app_name = app[2] \n",
    "\n",
    "    if app_name not in apple_unique_app_names:\n",
    "        apple_unique_app_names.append(app_name)\n",
    "        apple_clean.append(app)\n",
    "    else:\n",
    "        apple_duplicate_app_names.append(app_name)\n",
    "\n",
    "print('The Apple data has ' + str(len(apple_duplicate_app_names)) + ' duplicates.') # ID duplicates"
   ]
  },
  {
   "cell_type": "markdown",
   "id": "0ae5131e",
   "metadata": {},
   "source": [
    "We remove an erroneous entry and explore the presence of duplicates in our Android dataset:"
   ]
  },
  {
   "cell_type": "code",
   "execution_count": 6,
   "id": "454c8167",
   "metadata": {},
   "outputs": [
    {
     "name": "stdout",
     "output_type": "stream",
     "text": [
      "The android data has 1181 duplicates.\n"
     ]
    }
   ],
   "source": [
    "# Clean the data, remove duplicates, improper entries, apps that cost $, non-English apps, etc.\n",
    "\n",
    "# remove erroneous index 10472 from Google play data\n",
    "del android_data[10472] # don't run more than 1x\n",
    "\n",
    "# remove duplicates from Android data\n",
    "android_unique_app_names = []\n",
    "android_duplicate_app_names = []\n",
    "android_unique_apps = []\n",
    "\n",
    "for app in android_data: \n",
    "    app_name = app[0] \n",
    "\n",
    "    if app_name not in android_unique_app_names:\n",
    "        android_unique_app_names.append(app_name)\n",
    "        android_unique_apps.append(app)\n",
    "    else:\n",
    "        android_duplicate_app_names.append(app_name)\n",
    "\n",
    "print('The android data has ' + str(len(android_duplicate_app_names)) + ' duplicates.') # ID duplicates"
   ]
  },
  {
   "cell_type": "markdown",
   "id": "18165c8b",
   "metadata": {},
   "source": [
    "To handle duplicates in the Android data we'll filter out duplicates by only keeping that with the most user ratings."
   ]
  },
  {
   "cell_type": "code",
   "execution_count": 7,
   "id": "dbb78633",
   "metadata": {},
   "outputs": [
    {
     "name": "stdout",
     "output_type": "stream",
     "text": [
      "9659\n"
     ]
    }
   ],
   "source": [
    "# Generate a dictionary to store unique apps based on those with the most ratings (most recent)\n",
    "reviews_max = {}\n",
    "\n",
    "for app in android_data:\n",
    "    name = app[0] \n",
    "    n_reviews = float(app[3])\n",
    "    \n",
    "    if name in reviews_max and reviews_max[name] < n_reviews:\n",
    "        reviews_max[name] = n_reviews\n",
    "\n",
    "    if name not in reviews_max:\n",
    "        reviews_max[name] = n_reviews\n",
    "\n",
    "print(len(reviews_max)) "
   ]
  },
  {
   "cell_type": "code",
   "execution_count": 8,
   "id": "5eda970c",
   "metadata": {},
   "outputs": [
    {
     "name": "stdout",
     "output_type": "stream",
     "text": [
      "9659\n"
     ]
    }
   ],
   "source": [
    "# Utilize the dictionary to remove duplicate rows\n",
    "\n",
    "android_clean = []\n",
    "already_added = []\n",
    "\n",
    "for app in android_data:\n",
    "    name = app[0] \n",
    "    n_reviews = float(app[3])\n",
    "    \n",
    "    if n_reviews == reviews_max[name] and name not in already_added:\n",
    "        android_clean.append(app)\n",
    "        already_added.append(name)\n",
    "\n",
    "print(len(android_clean))"
   ]
  },
  {
   "cell_type": "markdown",
   "id": "c12ad069",
   "metadata": {},
   "source": [
    "With duplicates and erroneous entries removed from both datasets, next we filter for English apps:"
   ]
  },
  {
   "cell_type": "code",
   "execution_count": 9,
   "id": "855be156",
   "metadata": {},
   "outputs": [],
   "source": [
    "# Define a function to \n",
    "def english_string(input_string):\n",
    "    \n",
    "    non_eng_chars = 0\n",
    "    \n",
    "    for char in input_string:\n",
    "        if ord(char) > 127: # ASCII characters have value of 0-126\n",
    "            non_eng_chars += 1\n",
    "            \n",
    "    return non_eng_chars < 3 # We'll only consider apps with 3 or fewer non-English characters\n",
    "\n",
    "# Test functionality\n",
    "#english_string('Instagram')\n",
    "#english_string('爱奇艺PPS -《欢乐颂2》电视剧热播')\n",
    "#english_string('Instachat 😜')"
   ]
  },
  {
   "cell_type": "code",
   "execution_count": 10,
   "id": "db20569a",
   "metadata": {},
   "outputs": [
    {
     "name": "stdout",
     "output_type": "stream",
     "text": [
      "# of English Android apps: 9597\n"
     ]
    }
   ],
   "source": [
    "# Filter for English Android apps\n",
    "android_english = []\n",
    "\n",
    "for app in android_clean:\n",
    "    name = app[0] \n",
    "    \n",
    "    if english_string(name):\n",
    "        android_english.append(app)\n",
    "\n",
    "print('# of English Android apps: ' + str(len(android_english)))\n"
   ]
  },
  {
   "cell_type": "code",
   "execution_count": 11,
   "id": "46858ac3",
   "metadata": {},
   "outputs": [
    {
     "name": "stdout",
     "output_type": "stream",
     "text": [
      "# of English Apple apps: 6153\n"
     ]
    }
   ],
   "source": [
    "# Filter for English Apple apps\n",
    "\n",
    "apple_english = []\n",
    "\n",
    "for app in apple_clean:\n",
    "    name = app[2]\n",
    "    \n",
    "    if english_string(name):\n",
    "        apple_english.append(app)\n",
    "\n",
    "print('# of English Apple apps: ' + str(len(apple_english)))"
   ]
  },
  {
   "cell_type": "markdown",
   "id": "873c33f4",
   "metadata": {},
   "source": [
    "With non-English apps* filtered out, the last step is to filter out paid apps:\n",
    "\n",
    "*Note: we consider non-English apps those with 3 or more non-English characters*"
   ]
  },
  {
   "cell_type": "code",
   "execution_count": 12,
   "id": "23af3341",
   "metadata": {},
   "outputs": [
    {
     "name": "stdout",
     "output_type": "stream",
     "text": [
      "# of free Android apps: 8847\n"
     ]
    }
   ],
   "source": [
    "# Filter for free Android apps\n",
    "\n",
    "android_free = []\n",
    "\n",
    "for app in android_english:\n",
    "    price = app[6]\n",
    "    \n",
    "    if price == 'Free':\n",
    "        android_free.append(app)\n",
    "        \n",
    "print('# of free Android apps: ' + str(len(android_free)))        "
   ]
  },
  {
   "cell_type": "code",
   "execution_count": 13,
   "id": "810d9a83",
   "metadata": {},
   "outputs": [
    {
     "name": "stdout",
     "output_type": "stream",
     "text": [
      "# of free Apple apps: 3201\n"
     ]
    }
   ],
   "source": [
    "# Filter for free Apple apps\n",
    "\n",
    "apple_free = []\n",
    "\n",
    "for app in apple_english:\n",
    "    price = float(app[5])\n",
    "    \n",
    "    if price == 0:\n",
    "        apple_free.append(app)\n",
    "        \n",
    "print('# of free Apple apps: ' + str(len(apple_free)))        "
   ]
  },
  {
   "cell_type": "markdown",
   "id": "06e9d1d2",
   "metadata": {},
   "source": [
    "**At this point our data has been cleaned.** \n",
    "\n",
    "We've removed inaccurate data, removed duplicate app entries, removed non-English apps, and isolated out the free apps.\n",
    "\n",
    "Our goal is to determine the kinds of apps that are likely to attract more users because the number of people using our apps affect our revenue. To minimize risks and overhead, our validation strategy has three steps:\n",
    "\n",
    "1. Build a minimal Android version of the app, and add it to Google Play.\n",
    "2. If the app has a good response from users, we develop it further.\n",
    "3. If the app is profitable after six months, we build an iOS version of the app and add it to the App Store.\n",
    "\n",
    "Because our end goal is to add the app on both Google Play and the App Store, we need to find app profiles that are successful in both markets. \n",
    "\n",
    "**We now begin our analysis.** We build a frequency table to determine the most commone genres for each market:"
   ]
  },
  {
   "cell_type": "code",
   "execution_count": 14,
   "id": "6625bd1d",
   "metadata": {},
   "outputs": [],
   "source": [
    "# Generate a frequency table that show % based on the specified column of interest\n",
    "\n",
    "def freq_table(dataset, index):\n",
    "    \n",
    "    frequency_table = {}\n",
    "    \n",
    "    for row in dataset:\n",
    "        a_data_point = row[index]\n",
    "        \n",
    "        if a_data_point in frequency_table:\n",
    "            frequency_table[a_data_point] += 1\n",
    "        else:\n",
    "            frequency_table[a_data_point] = 1\n",
    "    \n",
    "    return frequency_table"
   ]
  },
  {
   "cell_type": "code",
   "execution_count": 15,
   "id": "abb03a68",
   "metadata": {},
   "outputs": [],
   "source": [
    "# Generate a display table\n",
    "\n",
    "def display_table(dataset, index):\n",
    "    \n",
    "    table = freq_table(dataset, index)\n",
    "    table_display = []\n",
    "    \n",
    "    for key in table:\n",
    "        key_val_as_tuple = (table[key], key)\n",
    "        table_display.append(key_val_as_tuple)\n",
    "\n",
    "    table_sorted = sorted(table_display, reverse = True)\n",
    "    \n",
    "    for entry in table_sorted:\n",
    "        print(entry[1], ':', entry[0])"
   ]
  },
  {
   "cell_type": "code",
   "execution_count": 16,
   "id": "fc1c6177",
   "metadata": {
    "scrolled": true
   },
   "outputs": [
    {
     "name": "stdout",
     "output_type": "stream",
     "text": [
      "Games : 1864\n",
      "Entertainment : 251\n",
      "Photo & Video : 160\n",
      "Education : 118\n",
      "Social Networking : 106\n",
      "Shopping : 83\n",
      "Utilities : 79\n",
      "Sports : 69\n",
      "Music : 66\n",
      "Health & Fitness : 65\n",
      "Productivity : 56\n",
      "Lifestyle : 50\n",
      "News : 43\n",
      "Travel : 40\n",
      "Finance : 35\n",
      "Weather : 28\n",
      "Food & Drink : 26\n",
      "Reference : 17\n",
      "Business : 17\n",
      "Book : 12\n",
      "Navigation : 6\n",
      "Medical : 6\n",
      "Catalogs : 4\n"
     ]
    }
   ],
   "source": [
    "# Utilize display table --> frequency table functions on the following columns\n",
    "## prime_genre: Apple index 12\n",
    "\n",
    "display_table(apple_free, 12)"
   ]
  },
  {
   "cell_type": "markdown",
   "id": "9fde09f1",
   "metadata": {},
   "source": [
    "For Apple's App Store genres we observe that:\n",
    "1. Games are clearly the most popular.\n",
    "2. Entertainment, Photo & Video, Education, and Social Networking form the next tier of popular apps.\n",
    "3. The most popular apps are Entertainment-based. Whereas practical apps (ie. Productivity) are far less popular.\n",
    "4. Based on the above display table, I would recommend Entertainment>Gaming as the app focus."
   ]
  },
  {
   "cell_type": "code",
   "execution_count": 17,
   "id": "f7026f9a",
   "metadata": {},
   "outputs": [
    {
     "name": "stdout",
     "output_type": "stream",
     "text": [
      "Tools : 747\n",
      "Entertainment : 538\n",
      "Education : 474\n",
      "Business : 407\n",
      "Productivity : 345\n",
      "Lifestyle : 343\n",
      "Finance : 328\n",
      "Medical : 313\n",
      "Sports : 306\n",
      "Personalization : 294\n",
      "Communication : 286\n",
      "Action : 274\n",
      "Health & Fitness : 273\n",
      "Photography : 261\n",
      "News & Magazines : 248\n",
      "Social : 236\n",
      "Travel & Local : 206\n",
      "Shopping : 199\n",
      "Books & Reference : 189\n",
      "Simulation : 181\n",
      "Dating : 165\n",
      "Arcade : 163\n",
      "Video Players & Editors : 157\n",
      "Casual : 156\n",
      "Maps & Navigation : 123\n",
      "Food & Drink : 110\n",
      "Puzzle : 100\n",
      "Racing : 88\n",
      "Role Playing : 83\n",
      "Libraries & Demo : 83\n",
      "Auto & Vehicles : 82\n",
      "Strategy : 80\n",
      "House & Home : 71\n",
      "Weather : 70\n",
      "Events : 63\n",
      "Adventure : 59\n",
      "Comics : 53\n",
      "Beauty : 53\n",
      "Art & Design : 53\n",
      "Parenting : 44\n",
      "Card : 40\n",
      "Trivia : 37\n",
      "Casino : 37\n",
      "Educational;Education : 35\n",
      "Board : 34\n",
      "Educational : 33\n",
      "Education;Education : 30\n",
      "Word : 23\n",
      "Casual;Pretend Play : 21\n",
      "Music : 18\n",
      "Racing;Action & Adventure : 15\n",
      "Puzzle;Brain Games : 15\n",
      "Entertainment;Music & Video : 15\n",
      "Casual;Brain Games : 12\n",
      "Casual;Action & Adventure : 12\n",
      "Arcade;Action & Adventure : 11\n",
      "Action;Action & Adventure : 9\n",
      "Educational;Pretend Play : 8\n",
      "Simulation;Action & Adventure : 7\n",
      "Parenting;Education : 7\n",
      "Entertainment;Brain Games : 7\n",
      "Board;Brain Games : 7\n",
      "Parenting;Music & Video : 6\n",
      "Educational;Brain Games : 6\n",
      "Casual;Creativity : 6\n",
      "Art & Design;Creativity : 6\n",
      "Education;Pretend Play : 5\n",
      "Role Playing;Pretend Play : 4\n",
      "Education;Creativity : 4\n",
      "Role Playing;Action & Adventure : 3\n",
      "Puzzle;Action & Adventure : 3\n",
      "Entertainment;Creativity : 3\n",
      "Entertainment;Action & Adventure : 3\n",
      "Educational;Creativity : 3\n",
      "Educational;Action & Adventure : 3\n",
      "Education;Music & Video : 3\n",
      "Education;Brain Games : 3\n",
      "Education;Action & Adventure : 3\n",
      "Adventure;Action & Adventure : 3\n",
      "Video Players & Editors;Music & Video : 2\n",
      "Sports;Action & Adventure : 2\n",
      "Simulation;Pretend Play : 2\n",
      "Puzzle;Creativity : 2\n",
      "Music;Music & Video : 2\n",
      "Entertainment;Pretend Play : 2\n",
      "Casual;Education : 2\n",
      "Board;Action & Adventure : 2\n",
      "Video Players & Editors;Creativity : 1\n",
      "Trivia;Education : 1\n",
      "Travel & Local;Action & Adventure : 1\n",
      "Tools;Education : 1\n",
      "Strategy;Education : 1\n",
      "Strategy;Creativity : 1\n",
      "Strategy;Action & Adventure : 1\n",
      "Simulation;Education : 1\n",
      "Role Playing;Brain Games : 1\n",
      "Racing;Pretend Play : 1\n",
      "Puzzle;Education : 1\n",
      "Parenting;Brain Games : 1\n",
      "Music & Audio;Music & Video : 1\n",
      "Lifestyle;Pretend Play : 1\n",
      "Lifestyle;Education : 1\n",
      "Health & Fitness;Education : 1\n",
      "Health & Fitness;Action & Adventure : 1\n",
      "Entertainment;Education : 1\n",
      "Communication;Creativity : 1\n",
      "Comics;Creativity : 1\n",
      "Casual;Music & Video : 1\n",
      "Card;Action & Adventure : 1\n",
      "Books & Reference;Education : 1\n",
      "Art & Design;Pretend Play : 1\n",
      "Art & Design;Action & Adventure : 1\n",
      "Arcade;Pretend Play : 1\n",
      "Adventure;Education : 1\n"
     ]
    }
   ],
   "source": [
    "## Genres: Android index 9\n",
    "display_table(android_free, 9)"
   ]
  },
  {
   "cell_type": "code",
   "execution_count": 18,
   "id": "8aaa82bc",
   "metadata": {},
   "outputs": [
    {
     "name": "stdout",
     "output_type": "stream",
     "text": [
      "FAMILY : 1675\n",
      "GAME : 858\n",
      "TOOLS : 748\n",
      "BUSINESS : 407\n",
      "PRODUCTIVITY : 345\n",
      "LIFESTYLE : 344\n",
      "FINANCE : 328\n",
      "MEDICAL : 313\n",
      "SPORTS : 300\n",
      "PERSONALIZATION : 294\n",
      "COMMUNICATION : 286\n",
      "HEALTH_AND_FITNESS : 273\n",
      "PHOTOGRAPHY : 261\n",
      "NEWS_AND_MAGAZINES : 248\n",
      "SOCIAL : 236\n",
      "TRAVEL_AND_LOCAL : 207\n",
      "SHOPPING : 199\n",
      "BOOKS_AND_REFERENCE : 189\n",
      "DATING : 165\n",
      "VIDEO_PLAYERS : 159\n",
      "MAPS_AND_NAVIGATION : 123\n",
      "FOOD_AND_DRINK : 110\n",
      "EDUCATION : 103\n",
      "ENTERTAINMENT : 85\n",
      "LIBRARIES_AND_DEMO : 83\n",
      "AUTO_AND_VEHICLES : 82\n",
      "HOUSE_AND_HOME : 71\n",
      "WEATHER : 70\n",
      "EVENTS : 63\n",
      "PARENTING : 58\n",
      "ART_AND_DESIGN : 57\n",
      "COMICS : 54\n",
      "BEAUTY : 53\n"
     ]
    }
   ],
   "source": [
    "## Category: Android index 1\n",
    "display_table(android_free, 1)"
   ]
  },
  {
   "cell_type": "markdown",
   "id": "89fafa42",
   "metadata": {},
   "source": [
    "For Android's Play Store genres and categories we observe that:\n",
    "1. Productivity and Entertainment form the top tier of most popular apps.\n",
    "2. The most popular apps are Productivity-based for Android which is a contrast to the concentration of Entertainment-centric apps that were most popular for apps. With this said, Entertaiinment is the 2nd most popular app it's just surrounded by numerous Productivity-centric app types.\n",
    "3. Based on the above display table, I would recommend a Productivity-focused, family-centric tool first followed by Entertainment."
   ]
  },
  {
   "cell_type": "markdown",
   "id": "903e6e24",
   "metadata": {},
   "source": [
    "With these findings in hand we proceed to exploring user-ship ..."
   ]
  },
  {
   "cell_type": "code",
   "execution_count": 28,
   "id": "38951475",
   "metadata": {},
   "outputs": [
    {
     "name": "stdout",
     "output_type": "stream",
     "text": [
      "Productivity :21028.410714285714\n",
      "Weather :52279.892857142855\n",
      "Shopping :27230.734939759037\n",
      "Reference :79350.4705882353\n",
      "Finance :32367.02857142857\n",
      "Music :57326.530303030304\n",
      "Utilities :19156.493670886077\n",
      "Travel :28243.8\n",
      "Social Networking :71548.34905660378\n",
      "Sports :23008.898550724636\n",
      "Health & Fitness :23298.015384615384\n",
      "Games :22910.83100858369\n",
      "Food & Drink :33333.92307692308\n",
      "News :21248.023255813954\n",
      "Book :46384.916666666664\n",
      "Photo & Video :28441.54375\n",
      "Entertainment :14195.358565737051\n",
      "Business :7491.117647058823\n",
      "Lifestyle :16815.48\n",
      "Education :7003.983050847458\n",
      "Navigation :86090.33333333333\n",
      "Medical :612.0\n",
      "Catalogs :4004.0\n"
     ]
    }
   ],
   "source": [
    "# Generate a frequency table for the prime_genre column to get the unique app genres \n",
    "apple_genre_dict = freq_table(apple_free, 12)\n",
    "apple_genre_list = list(apple_genre_dict.keys())\n",
    "\n",
    "for genre in apple_genre_list:\n",
    "    total = 0\n",
    "    len_genre = 0\n",
    "\n",
    "    for app in apple_free:\n",
    "        app_genre = str(app[12])\n",
    "        \n",
    "        if app_genre == genre:\n",
    "            user_rating_count = float(app[6])\n",
    "            total += user_rating_count\n",
    "            len_genre += 1\n",
    "        \n",
    "    user_rating_avg_count = total / len_genre\n",
    "    print(str(genre) + ' :' + str(user_rating_avg_count))\n"
   ]
  },
  {
   "cell_type": "markdown",
   "id": "d7c8241b",
   "metadata": {},
   "source": [
    "For Apple's App Store average user rating count we observe that:\n",
    "1. Navigation apps have the highest user rating count.\n",
    "2. Followed by Reference, Social Networking, Music, and Weather.\n",
    "3. From this we'd extend that while the number of apps of a certain type may indicate one thing, the number of user ratings would provide a different read. We should take each with a grain of salt.\n",
    "\n",
    "**For Apple's App Store I'd still recommend we generate an Entertainment app, I would just adapt this recommendation by focusing on Social Networking or Music.**"
   ]
  },
  {
   "cell_type": "code",
   "execution_count": 33,
   "id": "7f748a0f",
   "metadata": {},
   "outputs": [
    {
     "name": "stdout",
     "output_type": "stream",
     "text": [
      "ART_AND_DESIGN :1986335.0877192982\n",
      "AUTO_AND_VEHICLES :647317.8170731707\n",
      "BEAUTY :513151.88679245283\n",
      "BOOKS_AND_REFERENCE :8814199.78835979\n",
      "BUSINESS :1712290.1474201474\n",
      "COMICS :832613.8888888889\n",
      "COMMUNICATION :38590581.08741259\n",
      "DATING :854028.8303030303\n",
      "EDUCATION :1833495.145631068\n",
      "ENTERTAINMENT :11640705.88235294\n",
      "EVENTS :253542.22222222222\n",
      "FINANCE :1387692.475609756\n",
      "FOOD_AND_DRINK :1924897.7363636363\n",
      "HEALTH_AND_FITNESS :4188821.9853479853\n",
      "HOUSE_AND_HOME :1360598.042253521\n",
      "LIBRARIES_AND_DEMO :638503.734939759\n",
      "LIFESTYLE :1446158.2238372094\n",
      "GAME :15544014.51048951\n",
      "FAMILY :3697848.1731343283\n",
      "MEDICAL :120550.61980830671\n",
      "SOCIAL :23253652.127118643\n",
      "SHOPPING :7036877.311557789\n",
      "PHOTOGRAPHY :17840110.40229885\n",
      "SPORTS :3650602.276666667\n",
      "TRAVEL_AND_LOCAL :13984077.710144928\n",
      "TOOLS :10830251.970588235\n",
      "PERSONALIZATION :5201482.6122448975\n",
      "PRODUCTIVITY :16787331.344927534\n",
      "PARENTING :542603.6206896552\n",
      "WEATHER :5145550.285714285\n",
      "VIDEO_PLAYERS :24727872.452830188\n",
      "NEWS_AND_MAGAZINES :9549178.467741935\n",
      "MAPS_AND_NAVIGATION :4049274.6341463416\n"
     ]
    }
   ],
   "source": [
    "# Generate a frequency table for the Category column to get the unique app genres \n",
    "android_category_dict = freq_table(android_free, 1)\n",
    "android_category_list = list(android_category_dict.keys())\n",
    "\n",
    "\n",
    "for category in android_category_list:\n",
    "    total = 0\n",
    "    len_category = 0\n",
    "\n",
    "    for app in android_free:\n",
    "        app_category = str(app[1])\n",
    "        \n",
    "        if app_category == category:\n",
    "            install_count = str(app[5])\n",
    "            install_count = install_count.replace('+','')\n",
    "            install_count = install_count.replace(',','')\n",
    "            total += float(install_count)\n",
    "            len_category += 1\n",
    "        \n",
    "    user_install_count = total / len_category\n",
    "    print(str(category) + ' :' + str(user_install_count))\n"
   ]
  },
  {
   "cell_type": "markdown",
   "id": "635591df",
   "metadata": {},
   "source": [
    "For Google's Play Store average install count we observe that:\n",
    "1. Communication apps have the highest user rating count.\n",
    "2. Followed by Video Player, Social, Productivity, \n",
    "3. From this we'd extend that while the number of apps of a certain type may indicate one thing, the number of user ratings would provide a different read. We should take each with a grain of salt.\n",
    "\n",
    "**For Google's Play Store I'd adapt the earlier Productivity>Family-oriented app recommendation, and instead recommend a Social, video-based app (ie. TikTok).**"
   ]
  },
  {
   "cell_type": "markdown",
   "id": "47f8362a",
   "metadata": {},
   "source": [
    "**Conclusion**\n",
    "\n",
    "For Apple we found that an Entertainment app focused on Social and Music could be most popular whereas for Android we updated our recommendation to focus on a Social and Video-based app.\n",
    "\n",
    "To conclude, I would recommend an adaptation on an existing app (like Tiktok). Tiktok took for exactly the reasons highlighted in this analysis: it's social and it incorporates music and video.\n",
    "\n",
    "*How might we adapt / improve upon TikTok?*\n",
    "\n",
    "Generate an app where the user can take a picture / video of their face and then select from a subset of animations to embed it upon (think cartoons with cut-out heads where the user could set their face) and short, bite-sized chunks of the most popular songs of the time.\n",
    "\n",
    "This is just one possible route to take. There are an infinite # of possibilities here."
   ]
  },
  {
   "cell_type": "code",
   "execution_count": null,
   "id": "f8454168",
   "metadata": {},
   "outputs": [],
   "source": []
  }
 ],
 "metadata": {
  "kernelspec": {
   "display_name": "Python 3",
   "language": "python",
   "name": "python3"
  },
  "language_info": {
   "codemirror_mode": {
    "name": "ipython",
    "version": 3
   },
   "file_extension": ".py",
   "mimetype": "text/x-python",
   "name": "python",
   "nbconvert_exporter": "python",
   "pygments_lexer": "ipython3",
   "version": "3.9.4"
  }
 },
 "nbformat": 4,
 "nbformat_minor": 5
}
