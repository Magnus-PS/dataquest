{
 "cells": [
  {
   "cell_type": "markdown",
   "id": "d23ec3db",
   "metadata": {},
   "source": [
    "## Exploring Hacker News Data Analysis\n",
    "\n",
    "Magnus Skonberg | December 29th 2022\n",
    "\n",
    "### Project Intro\n",
    "\n",
    "The purpose of this project is to utilize basic Python string, object oriented programming, and date / time functionality, covered up to this point to perform a practical data analysis. \n",
    "\n",
    "In this project, we'll work with a dataset of submissions to popular technology site [Hacker News](https://news.ycombinator.com/). We'll work with a modified dataset and explore Ask HN and Show HN posts to determine the following:\n",
    "\n",
    "* Do Ask HN or Show HN receive more comments on average?\n",
    "* Do posts created at a certain time receive more comments on average?\n",
    "\n",
    "The data set we're working with was reduced from ~300k rows to ~20k rows by removing submissions that did not receive comments, and then randomly sampling from remaining submissions.\n",
    "\n",
    "### Load Data\n",
    "\n",
    "To start we read in our data:"
   ]
  },
  {
   "cell_type": "code",
   "execution_count": 1,
   "id": "3ac594e7",
   "metadata": {},
   "outputs": [],
   "source": [
    "# Import relevant libraries\n",
    "from csv import reader\n",
    "import datetime as dt\n",
    "\n",
    "# Define function to open CSV file and return header and data\n",
    "def header_and_data(csv):\n",
    "    opened_file = open(csv, encoding='utf8') # open CSV\n",
    "    read_file = reader(opened_file) # return list of strings\n",
    "    list_of_lists = list(read_file) # generate list of lists\n",
    "    \n",
    "    return list_of_lists[0], list_of_lists[1:] #return header and data"
   ]
  },
  {
   "cell_type": "code",
   "execution_count": 2,
   "id": "2d27a7ec",
   "metadata": {},
   "outputs": [
    {
     "data": {
      "text/plain": [
       "[['12224879',\n",
       "  'Interactive Dynamic Video',\n",
       "  'http://www.interactivedynamicvideo.com/',\n",
       "  '386',\n",
       "  '52',\n",
       "  'ne0phyte',\n",
       "  '8/4/2016 11:52'],\n",
       " ['10975351',\n",
       "  'How to Use Open Source and Shut the Fuck Up at the Same Time',\n",
       "  'http://hueniverse.com/2016/01/26/how-to-use-open-source-and-shut-the-fuck-up-at-the-same-time/',\n",
       "  '39',\n",
       "  '10',\n",
       "  'josep2',\n",
       "  '1/26/2016 19:30'],\n",
       " ['11964716',\n",
       "  \"Florida DJs May Face Felony for April Fools' Water Joke\",\n",
       "  'http://www.thewire.com/entertainment/2013/04/florida-djs-april-fools-water-joke/63798/',\n",
       "  '2',\n",
       "  '1',\n",
       "  'vezycash',\n",
       "  '6/23/2016 22:20'],\n",
       " ['11919867',\n",
       "  'Technology ventures: From Idea to Enterprise',\n",
       "  'https://www.amazon.com/Technology-Ventures-Enterprise-Thomas-Byers/dp/0073523429',\n",
       "  '3',\n",
       "  '1',\n",
       "  'hswarna',\n",
       "  '6/17/2016 0:01'],\n",
       " ['10301696',\n",
       "  'Note by Note: The Making of Steinway L1037 (2007)',\n",
       "  'http://www.nytimes.com/2007/11/07/movies/07stein.html?_r=0',\n",
       "  '8',\n",
       "  '2',\n",
       "  'walterbell',\n",
       "  '9/30/2015 4:12']]"
      ]
     },
     "execution_count": 2,
     "metadata": {},
     "output_type": "execute_result"
    }
   ],
   "source": [
    "headers, hn = header_and_data('hacker_news.csv')\n",
    "#headers #verify header extraction\n",
    "hn[:5] #verify first 5 rows"
   ]
  },
  {
   "cell_type": "markdown",
   "id": "8e2c83ea",
   "metadata": {},
   "source": [
    "### Extract Posts Based on Type\n",
    "\n",
    "We iterate over our dataset and redistribute posts based on type (Ask HN, Show HN, or other):"
   ]
  },
  {
   "cell_type": "code",
   "execution_count": 3,
   "id": "ba1cfabd",
   "metadata": {},
   "outputs": [],
   "source": [
    "# Create three empty lists called ask_posts, show_posts, and other_posts\n",
    "ask_posts = []\n",
    "show_posts = []\n",
    "other_posts = []\n",
    "\n",
    "# Instantiate comment count variables\n",
    "total_ask_comments = 0\n",
    "total_show_comments = 0\n",
    "\n",
    "# Instantiate empty list (of lists)\n",
    "result_list = []\n",
    "\n",
    "for row in hn:\n",
    "    title = row[1]\n",
    "    num_comments = int(row[4])\n",
    "    created_at = row[6]\n",
    "\n",
    "    #check whether the post is of ask, show, or other type\n",
    "    if title.lower().startswith(\"ask hn\"):\n",
    "        ask_posts.append(title)\n",
    "        total_ask_comments += num_comments\n",
    "        \n",
    "        # Iterate over ask_posts and append to result_list a list with two elements (created_at, comment_num):\n",
    "        result_list.append([created_at, num_comments])\n",
    "        \n",
    "    elif title.lower().startswith(\"show hn\"):\n",
    "        show_posts.append(title)\n",
    "        total_show_comments += num_comments\n",
    "        \n",
    "    else:\n",
    "        other_posts.append(title)\n",
    "       "
   ]
  },
  {
   "cell_type": "code",
   "execution_count": 4,
   "id": "b0fc7d8e",
   "metadata": {},
   "outputs": [
    {
     "name": "stdout",
     "output_type": "stream",
     "text": [
      "1744\n",
      "1162\n",
      "17194\n"
     ]
    }
   ],
   "source": [
    "# Check the number of posts in ask_posts, show_posts, and other_posts.\n",
    "print(len(ask_posts))\n",
    "print(len(show_posts))\n",
    "print(len(other_posts))"
   ]
  },
  {
   "cell_type": "markdown",
   "id": "2296fbd9",
   "metadata": {},
   "source": [
    "### Type Popularity\n",
    "\n",
    "We calculate the average number of comments per each type of posts as a proxy for popularity:"
   ]
  },
  {
   "cell_type": "code",
   "execution_count": 5,
   "id": "c5b44644",
   "metadata": {},
   "outputs": [
    {
     "name": "stdout",
     "output_type": "stream",
     "text": [
      "14.038417431192661\n",
      "10.31669535283993\n"
     ]
    }
   ],
   "source": [
    "# Check whether ask or show posts get more comments\n",
    "avg_ask_comments = total_ask_comments / len(ask_posts)\n",
    "avg_show_comments = total_show_comments / len(show_posts)\n",
    "\n",
    "print(avg_ask_comments)\n",
    "print(avg_show_comments)"
   ]
  },
  {
   "cell_type": "markdown",
   "id": "b1560a15",
   "metadata": {},
   "source": [
    "Ask posts get more comments. This would confirm that, specific to Hacker news, users enjoy engaging with questions more than they enjoy being shown something.\n",
    "\n",
    "Since ask posts are more likely to receive comments, we'll focus our remaining analysis just on these posts.\n",
    "\n",
    "### Comments per Hour\n",
    "\n",
    "Next, we'll determine if ask posts created at a certain time are more likely to attract comments:"
   ]
  },
  {
   "cell_type": "code",
   "execution_count": 6,
   "id": "670a14e9",
   "metadata": {},
   "outputs": [],
   "source": [
    "# Create two empty dictionaries called counts_by_hour and comments_by_hour.\n",
    "counts_by_hour = {}\n",
    "comments_by_hour = {}\n",
    "\n",
    "# Loop through each row of result_list and extract the hour from the date\n",
    "for row in result_list:\n",
    "    created_at = row[0]\n",
    "    hour = dt.datetime.strptime(created_at, \"%m/%d/%Y %H:%M\").strftime(\"%H\")\n",
    "    \n",
    "    if hour not in counts_by_hour:\n",
    "        counts_by_hour[hour] = 1\n",
    "    else:\n",
    "        counts_by_hour[hour] += 1\n",
    "    \n",
    "    if hour not in comments_by_hour:\n",
    "        comments_by_hour[hour] = row[1]\n",
    "    else:\n",
    "        comments_by_hour[hour] += row[1]"
   ]
  },
  {
   "cell_type": "code",
   "execution_count": 7,
   "id": "0a3b0905",
   "metadata": {},
   "outputs": [
    {
     "name": "stdout",
     "output_type": "stream",
     "text": [
      "[['09', 5.5777777777777775], ['13', 14.741176470588234], ['10', 13.440677966101696], ['14', 13.233644859813085], ['16', 16.796296296296298], ['23', 7.985294117647059], ['12', 9.41095890410959], ['17', 11.46], ['15', 38.5948275862069], ['21', 16.009174311926607], ['20', 21.525], ['02', 23.810344827586206], ['18', 13.20183486238532], ['03', 7.796296296296297], ['05', 10.08695652173913], ['19', 10.8], ['01', 11.383333333333333], ['22', 6.746478873239437], ['08', 10.25], ['04', 7.170212765957447], ['00', 8.127272727272727], ['06', 9.022727272727273], ['07', 7.852941176470588], ['11', 11.051724137931034]]\n"
     ]
    }
   ],
   "source": [
    "# Create a list of lists containing the hours during which posts were created and the average number of comments\n",
    "avg_by_hour = []\n",
    "\n",
    "for hour in comments_by_hour:\n",
    "    avg_by_hour.append([hour, comments_by_hour[hour] / counts_by_hour[hour]])\n",
    "\n",
    "print(avg_by_hour)"
   ]
  },
  {
   "cell_type": "code",
   "execution_count": 8,
   "id": "0d0f1216",
   "metadata": {},
   "outputs": [
    {
     "name": "stdout",
     "output_type": "stream",
     "text": [
      "Tope 5 Hours for Ask Posts Comments.\n",
      "15:00: 38.59 average comments per post\n",
      "02:00: 23.81 average comments per post\n",
      "20:00: 21.52 average comments per post\n",
      "16:00: 16.80 average comments per post\n",
      "21:00: 16.01 average comments per post\n"
     ]
    }
   ],
   "source": [
    "# Create a list that equals avg_by_hour with swapped columns.\n",
    "swap_avg_by_hour = []\n",
    "\n",
    "# Iterate over the rows of avg_by_hour, and append to swap_avg_by_hour a list whose first element is the second element of the row, and whose second element is the first element of the row.\n",
    "for row in avg_by_hour:\n",
    "    swap_avg_by_hour.append([row[1], row[0]])\n",
    "\n",
    "sorted_swap = sorted(swap_avg_by_hour, reverse = True)\n",
    "#print(sorted_swap) #verify sort\n",
    "\n",
    "print(\"Tope 5 Hours for Ask Posts Comments.\")\n",
    "\n",
    "for row in sorted_swap[:5]:\n",
    "    string = \"{}: {:.2f} average comments per post\".format(dt.datetime.strptime(row[1],'%H').strftime('%H:%M'), row[0])\n",
    "    print(string)"
   ]
  },
  {
   "cell_type": "markdown",
   "id": "66328b3a",
   "metadata": {},
   "source": [
    "By far the best time for publishing a post is ~ 3pm. Whereas the next best times are 2am (likely specific to Hacker News users) and 8pm respectively."
   ]
  },
  {
   "cell_type": "markdown",
   "id": "0a954314",
   "metadata": {},
   "source": [
    "### Conclusion\n",
    "\n",
    "In this project, we analyzed Hacker News' Ask vs Show posts to determine which type of post and time of posting would get the most traction. We utilized comment number as a proxy for popularity. \n",
    "\n",
    "**For maximum popularity, we'd recommend posting from 3-4pm as an ask post.**"
   ]
  },
  {
   "cell_type": "code",
   "execution_count": null,
   "id": "d4b1e809",
   "metadata": {},
   "outputs": [],
   "source": []
  }
 ],
 "metadata": {
  "kernelspec": {
   "display_name": "Python 3",
   "language": "python",
   "name": "python3"
  },
  "language_info": {
   "codemirror_mode": {
    "name": "ipython",
    "version": 3
   },
   "file_extension": ".py",
   "mimetype": "text/x-python",
   "name": "python",
   "nbconvert_exporter": "python",
   "pygments_lexer": "ipython3",
   "version": "3.9.4"
  }
 },
 "nbformat": 4,
 "nbformat_minor": 5
}
